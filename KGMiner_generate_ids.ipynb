{
 "cells": [
  {
   "cell_type": "code",
   "execution_count": 2,
   "metadata": {
    "scrolled": false
   },
   "outputs": [
    {
     "name": "stdout",
     "output_type": "stream",
     "text": [
      "8971,917 : Afghanistan\n",
      ",Kabul\n",
      "\n",
      "2521,2559 : Albania\n",
      ",Tirana\n",
      "\n",
      "2304,10648 : Algeria\n",
      ",Algiers\n",
      "\n",
      "209589,337420 : Andorra\n",
      ",Andorra_la_Vella\n",
      "\n",
      "259,258 : Angola\n",
      ",Luanda\n",
      "\n",
      "122025, : Antigua_and_Barbuda\n",
      ",St._John%27s,_Antigua_and_Barbuda\n",
      "\n",
      "1630,2610 : Argentina\n",
      ",Buenos_Aires\n",
      "\n",
      "7656,7655 : Armenia\n",
      ",Yerevan\n",
      "\n",
      "111,14216 : Australia\n",
      ",Canberra\n",
      "\n",
      "2866,2865 : Austria\n",
      ",Vienna\n",
      "\n"
     ]
    }
   ],
   "source": [
    "file1_names = open('./data_id/country_names.txt', 'r')\n",
    "file2_names = open('./data_id/capital_names.txt', 'r')\n",
    "ids = open('./data_id/country_captial.csv', 'w')\n",
    "\n",
    "ids.write('country_id,city_id\\n')\n",
    "\n",
    "file1_name = file1_names.readline()\n",
    "file1_name = file1_name.split('/')[1]\n",
    "file2_name = file2_names.readline()\n",
    "file2_name = file2_name.split('/')[1]\n",
    "count = 0\n",
    "while file1_name != \"\" and file2_name != \"\" and count<10:\n",
    "    file1_found = False\n",
    "    file2_found = False\n",
    "    str_to_write = \",\"\n",
    "    nodes = open('./data/infobox.nodes', 'r')\n",
    "    node = nodes.readline()\n",
    "    while node != \"\" and (not file1_found or not file2_found):\n",
    "        node_info = node.split('\\t')\n",
    "        if node_info[1] == file1_name:\n",
    "            file1_found = True\n",
    "            str_to_write = node_info[0] + str_to_write\n",
    "        if node_info[1] == file2_name:\n",
    "            file2_found = True\n",
    "            str_to_write = str_to_write + node_info[0]\n",
    "        node = nodes.readline()\n",
    "    print str_to_write + \" : \" + file1_name + \",\" + file2_name\n",
    "    ids.write(str_to_write + '\\n')\n",
    "    count+=1\n",
    "    file1_name = file1_names.readline()\n",
    "    file1_name = file1_name.split('/')[1]\n",
    "    file2_name = file2_names.readline()\n",
    "    file2_name = file2_name.split('/')[1]"
   ]
  },
  {
   "cell_type": "code",
   "execution_count": 22,
   "metadata": {},
   "outputs": [
    {
     "name": "stdout",
     "output_type": "stream",
     "text": [
      "['191', 'capital\\n']\n"
     ]
    }
   ],
   "source": [
    "nodes = open('infobox.edgetypes', 'r')\n",
    "node = nodes.readline()\n",
    "found = False\n",
    "while node != \"\" and (not found):\n",
    "    node_info = node.split('\\t')\n",
    "    if node_info[0] == \"191\":\n",
    "        print node_info\n",
    "        #found = True\n",
    "    node = nodes.readline()"
   ]
  },
  {
   "cell_type": "code",
   "execution_count": 47,
   "metadata": {},
   "outputs": [
    {
     "name": "stdout",
     "output_type": "stream",
     "text": [
      "Beijing\n",
      "\n",
      "5251\n"
     ]
    }
   ],
   "source": [
    "found = False\n",
    "while node != \"\" and (not found):\n",
    "    node_info = node.split('\\t')\n",
    "    if node_info[1] == \"Beijing\\n\":\n",
    "        print node_info[1]\n",
    "        print node_info[0]\n",
    "        #found = True\n",
    "    node = nodes.readline()\n"
   ]
  },
  {
   "cell_type": "code",
   "execution_count": 50,
   "metadata": {},
   "outputs": [
    {
     "name": "stdout",
     "output_type": "stream",
     "text": [
      "China\n",
      "\n",
      "3452\n"
     ]
    }
   ],
   "source": [
    "found = False\n",
    "while node != \"\" and (not found):\n",
    "    node_info = node.split('\\t')\n",
    "    if node_info[1] == \"China\\n\":\n",
    "        print node_info[1]\n",
    "        print node_info[0]\n",
    "        #found = True\n",
    "    node = nodes.readline()"
   ]
  },
  {
   "cell_type": "code",
   "execution_count": 62,
   "metadata": {},
   "outputs": [
    {
     "name": "stdout",
     "output_type": "stream",
     "text": [
      "Paris\n",
      "\n",
      "2484\n"
     ]
    }
   ],
   "source": [
    "found = False\n",
    "while node != \"\" and (not found):\n",
    "    node_info = node.split('\\t')\n",
    "    if node_info[1] == \"Paris\\n\":\n",
    "        print node_info[1]\n",
    "        print node_info[0]\n",
    "        #found = True\n",
    "    node = nodes.readline()\n"
   ]
  },
  {
   "cell_type": "code",
   "execution_count": 66,
   "metadata": {},
   "outputs": [
    {
     "name": "stdout",
     "output_type": "stream",
     "text": [
      "Hanoi\n",
      "\n",
      "5154\n"
     ]
    }
   ],
   "source": [
    "found = False\n",
    "while node != \"\" and (not found):\n",
    "    node_info = node.split('\\t')\n",
    "    if node_info[1] == \"Hanoi\\n\":\n",
    "        print node_info[1]\n",
    "        print node_info[0]\n",
    "        #found = True\n",
    "    node = nodes.readline()"
   ]
  },
  {
   "cell_type": "code",
   "execution_count": 69,
   "metadata": {},
   "outputs": [
    {
     "name": "stdout",
     "output_type": "stream",
     "text": [
      "Vietnam\n",
      "\n",
      "5155\n"
     ]
    }
   ],
   "source": [
    "found = False\n",
    "while node != \"\" and (not found):\n",
    "    node_info = node.split('\\t')\n",
    "    if node_info[1] == \"Vietnam\\n\":\n",
    "        print node_info[1]\n",
    "        print node_info[0]\n",
    "        #found = True\n",
    "    node = nodes.readline()"
   ]
  },
  {
   "cell_type": "code",
   "execution_count": 21,
   "metadata": {},
   "outputs": [
    {
     "name": "stdout",
     "output_type": "stream",
     "text": [
      "['221', '10387', '191\\n']\n"
     ]
    }
   ],
   "source": [
    "nodes = open('infobox.edgelist', 'r')\n",
    "node = nodes.readline()\n",
    "\n",
    "\n",
    "found = False\n",
    "while node != \"\" and (not found):\n",
    "    node_info = node.split(' ')\n",
    "    if node_info[0] == \"221\" and node_info[1] == \"10387\":\n",
    "        print node_info\n",
    "        found = True\n",
    "    node = nodes.readline()"
   ]
  },
  {
   "cell_type": "code",
   "execution_count": 11,
   "metadata": {},
   "outputs": [
    {
     "name": "stdout",
     "output_type": "stream",
     "text": [
      "['1', '2', '1\\n']\n"
     ]
    }
   ],
   "source": [
    "nodes = open('infobox.edgelist', 'r')\n",
    "node = nodes.readline()\n",
    "node_info = node.split(' ')\n",
    "print node_info"
   ]
  },
  {
   "cell_type": "code",
   "execution_count": 12,
   "metadata": {},
   "outputs": [
    {
     "data": {
      "text/plain": [
       "True"
      ]
     },
     "execution_count": 12,
     "metadata": {},
     "output_type": "execute_result"
    }
   ],
   "source": [
    "node_info[0] == \"1\""
   ]
  },
  {
   "cell_type": "code",
   "execution_count": 10,
   "metadata": {},
   "outputs": [
    {
     "data": {
      "text/plain": [
       "'1 2 1\\n'"
      ]
     },
     "execution_count": 10,
     "metadata": {},
     "output_type": "execute_result"
    }
   ],
   "source": [
    "node"
   ]
  },
  {
   "cell_type": "code",
   "execution_count": null,
   "metadata": {
    "collapsed": true
   },
   "outputs": [],
   "source": []
  }
 ],
 "metadata": {
  "kernelspec": {
   "display_name": "Python 2",
   "language": "python",
   "name": "python2"
  },
  "language_info": {
   "codemirror_mode": {
    "name": "ipython",
    "version": 2
   },
   "file_extension": ".py",
   "mimetype": "text/x-python",
   "name": "python",
   "nbconvert_exporter": "python",
   "pygments_lexer": "ipython2",
   "version": "2.7.14"
  }
 },
 "nbformat": 4,
 "nbformat_minor": 1
}
